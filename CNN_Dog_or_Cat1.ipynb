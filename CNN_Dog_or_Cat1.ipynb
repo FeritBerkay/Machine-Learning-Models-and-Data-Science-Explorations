{
 "cells": [
  {
   "cell_type": "code",
   "execution_count": 1,
   "id": "0cbe3d04",
   "metadata": {},
   "outputs": [
    {
     "name": "stderr",
     "output_type": "stream",
     "text": [
      "C:\\Users\\ferit\\anaconda3\\lib\\site-packages\\scipy\\__init__.py:155: UserWarning: A NumPy version >=1.18.5 and <1.25.0 is required for this version of SciPy (detected version 1.25.1\n",
      "  warnings.warn(f\"A NumPy version >={np_minversion} and <{np_maxversion}\"\n"
     ]
    }
   ],
   "source": [
    "import numpy as np\n",
    "import pandas as pd\n",
    "from pathlib import Path\n",
    "import os.path\n",
    "\n",
    "import matplotlib.pyplot as plt\n",
    "import seaborn as sns\n",
    "\n",
    "from sklearn.model_selection import train_test_split\n",
    "\n",
    "import tensorflow as tf\n",
    "\n",
    "from sklearn.metrics import confusion_matrix, classification_report"
   ]
  },
  {
   "cell_type": "code",
   "execution_count": 2,
   "id": "eccd757f",
   "metadata": {},
   "outputs": [],
   "source": [
    "image_dir = Path('cat and dog')"
   ]
  },
  {
   "cell_type": "code",
   "execution_count": 3,
   "id": "65d1afc5",
   "metadata": {},
   "outputs": [],
   "source": [
    "filepaths = list(image_dir.glob(r'**/*.png'))# List of all the filepaths\n",
    "labels = list(map(lambda x: os.path.split(os.path.split(x)[0])[1], filepaths))# Labels are cat and dog\n",
    "\n",
    "filepaths = pd.Series(filepaths, name='Filepath').astype(str)# All values must be string format\n",
    "labels = pd.Series(labels, name='Label')\n",
    "\n",
    "# Creating the data\n",
    "image_df = pd.concat([filepaths, labels], axis=1)# Concatenating the 'Filepath' and 'Label' Pandas Series ,\n",
    "                                                 #Axis=1 means side by side"
   ]
  },
  {
   "cell_type": "code",
   "execution_count": 4,
   "id": "514ad319",
   "metadata": {},
   "outputs": [
    {
     "data": {
      "text/plain": [
       "Filepath    999\n",
       "Label         2\n",
       "dtype: int64"
      ]
     },
     "execution_count": 4,
     "metadata": {},
     "output_type": "execute_result"
    }
   ],
   "source": [
    "image_df.nunique()"
   ]
  },
  {
   "cell_type": "code",
   "execution_count": 5,
   "id": "df975c29",
   "metadata": {},
   "outputs": [],
   "source": [
    "train, test = train_test_split(image_df, test_size=0.33, random_state=42)"
   ]
  },
  {
   "cell_type": "code",
   "execution_count": 6,
   "id": "29240f7f",
   "metadata": {},
   "outputs": [],
   "source": [
    "#We creating our data to train and test it.\n",
    "train_generator = tf.keras.preprocessing.image.ImageDataGenerator(\n",
    "    rescale=1./255,  #This parameter scales the pixel values of the images\n",
    "    horizontal_flip=True, \n",
    "    width_shift_range=0.2,\n",
    "    height_shift_range=0.2, #This two parameters control the range for randomly shifting the width and hight\n",
    "    validation_split=0.2 # This parameter specifies the fraction of the training dataset that will be used for validation.\n",
    ")\n",
    "\n",
    "test_generator = tf.keras.preprocessing.image.ImageDataGenerator(\n",
    "    rescale=1./255\n",
    ")\n"
   ]
  },
  {
   "cell_type": "code",
   "execution_count": 7,
   "id": "a071dff3",
   "metadata": {},
   "outputs": [
    {
     "name": "stdout",
     "output_type": "stream",
     "text": [
      "Found 536 validated image filenames belonging to 2 classes.\n",
      "Found 133 validated image filenames belonging to 2 classes.\n",
      "Found 330 validated image filenames belonging to 2 classes.\n"
     ]
    }
   ],
   "source": [
    "#This part creates an image data iterator for training data.\n",
    "train_images = train_generator.flow_from_dataframe( #This function creates an iterator that generates batches of augmented image data.\n",
    "    dataframe=train,\n",
    "    x_col='Filepath',\n",
    "    y_col='Label', #Specifies the location of data.\n",
    "    target_size=(224, 224), # Resizes the images\n",
    "    color_mode='rgb',\n",
    "    class_mode='binary',# Specifies the type of labels\n",
    "    batch_size=32, #Determines the size of each batch of images\n",
    "    shuffle=True,\n",
    "    seed=42,\n",
    "    subset='training'\n",
    ")\n",
    "\n",
    "val_images = train_generator.flow_from_dataframe(\n",
    "    dataframe=train,\n",
    "    x_col='Filepath',\n",
    "    y_col='Label',\n",
    "    target_size=(224, 224),\n",
    "    color_mode='rgb',\n",
    "    class_mode='binary',\n",
    "    batch_size=32,\n",
    "    shuffle=True,\n",
    "    seed=42,\n",
    "    subset='validation'\n",
    ")\n",
    "\n",
    "test_images = test_generator.flow_from_dataframe(\n",
    "    dataframe=test,\n",
    "    x_col='Filepath',\n",
    "    y_col='Label',\n",
    "    target_size=(224, 224),\n",
    "    color_mode='rgb',\n",
    "    class_mode='binary',\n",
    "    batch_size=32,\n",
    "    shuffle=False\n",
    ")"
   ]
  },
  {
   "cell_type": "code",
   "execution_count": 8,
   "id": "8929b0ed",
   "metadata": {},
   "outputs": [
    {
     "name": "stdout",
     "output_type": "stream",
     "text": [
      "Epoch 1/20\n",
      "17/17 [==============================] - 23s 1s/step - loss: 0.6940 - accuracy: 0.5037 - val_loss: 0.6947 - val_accuracy: 0.4662 - lr: 0.0010\n",
      "Epoch 2/20\n",
      "17/17 [==============================] - 13s 762ms/step - loss: 0.6934 - accuracy: 0.5131 - val_loss: 0.6934 - val_accuracy: 0.4662 - lr: 0.0010\n",
      "Epoch 3/20\n",
      "17/17 [==============================] - 12s 719ms/step - loss: 0.6903 - accuracy: 0.5187 - val_loss: 0.6954 - val_accuracy: 0.4662 - lr: 0.0010\n",
      "Epoch 4/20\n",
      "17/17 [==============================] - 13s 732ms/step - loss: 0.6905 - accuracy: 0.5131 - val_loss: 0.6842 - val_accuracy: 0.4737 - lr: 0.0010\n",
      "Epoch 5/20\n",
      "17/17 [==============================] - 13s 748ms/step - loss: 0.6845 - accuracy: 0.5429 - val_loss: 0.6767 - val_accuracy: 0.6316 - lr: 0.0010\n",
      "Epoch 6/20\n",
      "17/17 [==============================] - 13s 739ms/step - loss: 0.6799 - accuracy: 0.5821 - val_loss: 0.6655 - val_accuracy: 0.6391 - lr: 0.0010\n",
      "Epoch 7/20\n",
      "17/17 [==============================] - 13s 746ms/step - loss: 0.6765 - accuracy: 0.5466 - val_loss: 0.6536 - val_accuracy: 0.6466 - lr: 0.0010\n",
      "Epoch 8/20\n",
      "17/17 [==============================] - 13s 748ms/step - loss: 0.6704 - accuracy: 0.5709 - val_loss: 0.6540 - val_accuracy: 0.6617 - lr: 0.0010\n",
      "Epoch 9/20\n",
      "17/17 [==============================] - 13s 748ms/step - loss: 0.6864 - accuracy: 0.5392 - val_loss: 0.6549 - val_accuracy: 0.5865 - lr: 0.0010\n",
      "Epoch 10/20\n",
      "17/17 [==============================] - 12s 714ms/step - loss: 0.6586 - accuracy: 0.6157 - val_loss: 0.6373 - val_accuracy: 0.6466 - lr: 0.0010\n",
      "Epoch 11/20\n",
      "17/17 [==============================] - 13s 745ms/step - loss: 0.6554 - accuracy: 0.6063 - val_loss: 0.6663 - val_accuracy: 0.6090 - lr: 0.0010\n",
      "Epoch 12/20\n",
      "17/17 [==============================] - 12s 708ms/step - loss: 0.6767 - accuracy: 0.5802 - val_loss: 0.6490 - val_accuracy: 0.6015 - lr: 0.0010\n",
      "Epoch 13/20\n",
      "17/17 [==============================] - 13s 785ms/step - loss: 0.6613 - accuracy: 0.6007 - val_loss: 0.6341 - val_accuracy: 0.5865 - lr: 0.0010\n",
      "Epoch 14/20\n",
      "17/17 [==============================] - 13s 779ms/step - loss: 0.6583 - accuracy: 0.6082 - val_loss: 0.6416 - val_accuracy: 0.6541 - lr: 0.0010\n",
      "Epoch 15/20\n",
      "17/17 [==============================] - 13s 746ms/step - loss: 0.6556 - accuracy: 0.6325 - val_loss: 0.6294 - val_accuracy: 0.6391 - lr: 0.0010\n",
      "Epoch 16/20\n",
      "17/17 [==============================] - 14s 821ms/step - loss: 0.6535 - accuracy: 0.6362 - val_loss: 0.6358 - val_accuracy: 0.6767 - lr: 0.0010\n",
      "Epoch 17/20\n",
      "17/17 [==============================] - 13s 781ms/step - loss: 0.6526 - accuracy: 0.6175 - val_loss: 0.6321 - val_accuracy: 0.6015 - lr: 0.0010\n",
      "Epoch 18/20\n",
      "17/17 [==============================] - 13s 755ms/step - loss: 0.6511 - accuracy: 0.6381 - val_loss: 0.6269 - val_accuracy: 0.6541 - lr: 0.0010\n",
      "Epoch 19/20\n",
      "17/17 [==============================] - 13s 767ms/step - loss: 0.6545 - accuracy: 0.6269 - val_loss: 0.6293 - val_accuracy: 0.6617 - lr: 0.0010\n",
      "Epoch 20/20\n",
      "17/17 [==============================] - 15s 909ms/step - loss: 0.6502 - accuracy: 0.6231 - val_loss: 0.6266 - val_accuracy: 0.6541 - lr: 0.0010\n"
     ]
    }
   ],
   "source": [
    "# This will reduce no. of pixels\n",
    "inputs = tf.keras.Input(shape=(224, 224, 3)) # This line defines the input layer for the mode\n",
    "#This layer performs a 2D convolution on the input data. Two convolutional layers are defined:\n",
    "x = tf.keras.layers.Conv2D(filters=16, kernel_size=(3, 3), activation='relu')(inputs)\n",
    "x = tf.keras.layers.MaxPool2D()(x)\n",
    "x = tf.keras.layers.Conv2D(filters=32, kernel_size=(3, 3), activation='relu')(x)\n",
    "x = tf.keras.layers.MaxPool2D()(x)\n",
    "x = tf.keras.layers.GlobalAveragePooling2D()(x)\n",
    "x = tf.keras.layers.Dense(128, activation='relu')(x)\n",
    "x = tf.keras.layers.Dense(128, activation='relu')(x)\n",
    "outputs = tf.keras.layers.Dense(1, activation='sigmoid')(x)\n",
    "\n",
    "model = tf.keras.Model(inputs=inputs, outputs=outputs)\n",
    "\n",
    "model.compile(\n",
    "    optimizer='adam',\n",
    "    loss='binary_crossentropy',\n",
    "    metrics=['accuracy']\n",
    ")\n",
    "\n",
    "history = model.fit(\n",
    "    train_images,\n",
    "    validation_data=val_images,\n",
    "    epochs=20,\n",
    "    callbacks=[\n",
    "        #Monitors the validation loss and stops training if no improvement is seen for a specified number of\n",
    "        #epochs (patience=5) while restoring the best weights\n",
    "        tf.keras.callbacks.EarlyStopping(\n",
    "            monitor='val_loss',\n",
    "            patience=5,\n",
    "            restore_best_weights=True\n",
    "        ),\n",
    "        # Reduces the learning rate if no improvement is seen in validation loss for a specified number of epochs (patience=3)\n",
    "        tf.keras.callbacks.ReduceLROnPlateau(\n",
    "            monitor='val_loss',\n",
    "            patience=3\n",
    "        )\n",
    "    ]\n",
    ")"
   ]
  },
  {
   "cell_type": "code",
   "execution_count": 9,
   "id": "429c71fa",
   "metadata": {},
   "outputs": [
    {
     "name": "stdout",
     "output_type": "stream",
     "text": [
      "Test Loss: 0.65436\n",
      "Test Accuracy: 60.61%\n"
     ]
    }
   ],
   "source": [
    "results = model.evaluate(test_images, verbose=0)\n",
    "\n",
    "print(\"Test Loss: {:.5f}\".format(results[0]))\n",
    "print(\"Test Accuracy: {:.2f}%\".format(results[1] * 100))"
   ]
  },
  {
   "cell_type": "code",
   "execution_count": 12,
   "id": "7eda66fe",
   "metadata": {},
   "outputs": [
    {
     "name": "stdout",
     "output_type": "stream",
     "text": [
      "11/11 [==============================] - 2s 173ms/step\n"
     ]
    },
    {
     "data": {
      "image/png": "[encoded data removed]",
      "text/plain": [
       "<Figure size 600x600 with 1 Axes>"
      ]
     },
     "metadata": {},
     "output_type": "display_data"
    },
    {
     "name": "stdout",
     "output_type": "stream",
     "text": [
      "Classification Report:\n",
      "----------------------\n",
      "               precision    recall  f1-score   support\n",
      "\n",
      "         CAT       0.61      0.63      0.62       167\n",
      "         DOG       0.61      0.58      0.59       163\n",
      "\n",
      "    accuracy                           0.61       330\n",
      "   macro avg       0.61      0.61      0.61       330\n",
      "weighted avg       0.61      0.61      0.61       330\n",
      "\n"
     ]
    }
   ],
   "source": [
    "predictions = (model.predict(test_images) >= 0.5).astype(int)#converting the model output into binary predictions 0 or 1\n",
    "\n",
    "cm = confusion_matrix(test_images.labels, predictions, labels=[0, 1])\n",
    "clr = classification_report(test_images.labels, predictions, labels=[0, 1], target_names=[\"CAT\", \"DOG\"])\n",
    "\n",
    "#The code uses matplotlib and seaborn to create a heatmap visualization of the confusion matrix.\n",
    "plt.figure(figsize=(6, 6))\n",
    "sns.heatmap(cm, annot=True, fmt='g', vmin=0, cmap='Blues', cbar=False)\n",
    "plt.xticks(ticks=[0.5, 1.5], labels=[\"CAT\", \"DOG\"])\n",
    "plt.yticks(ticks=[0.5, 1.5], labels=[\"CAT\", \"DOG\"])\n",
    "plt.xlabel(\"Predicted\")\n",
    "plt.ylabel(\"Actual\")\n",
    "plt.title(\"Confusion Matrix\")\n",
    "plt.show()\n",
    "\n",
    "print(\"Classification Report:\\n----------------------\\n\", clr)"
   ]
  },
  {
   "cell_type": "code",
   "execution_count": null,
   "id": "b90e12d1",
   "metadata": {},
   "outputs": [],
   "source": []
  }
 ],
 "metadata": {
  "kernelspec": {
   "display_name": "Python 3 (ipykernel)",
   "language": "python",
   "name": "python3"
  },
  "language_info": {
   "codemirror_mode": {
    "name": "ipython",
    "version": 3
   },
   "file_extension": ".py",
   "mimetype": "text/x-python",
   "name": "python",
   "nbconvert_exporter": "python",
   "pygments_lexer": "ipython3",
   "version": "3.9.13"
  }
 },
 "nbformat": 4,
 "nbformat_minor": 5
}
